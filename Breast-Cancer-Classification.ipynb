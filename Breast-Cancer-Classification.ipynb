{
 "cells": [
  {
   "metadata": {},
   "cell_type": "markdown",
   "source": "Dataset Link : https://www.kaggle.com/datasets/marshuu/breast-cancer?select=breast_cancer.csv",
   "id": "9afcb4ba645bce0e"
  },
  {
   "cell_type": "code",
   "id": "initial_id",
   "metadata": {
    "collapsed": true
   },
   "source": [
    "import numpy as np\n",
    "import pandas as pd\n",
    "import matplotlib.pyplot as plt\n",
    "%matplotlib inline\n",
    "import seaborn as sns\n",
    "\n",
    "import warnings\n",
    "warnings.filterwarnings('ignore')"
   ],
   "outputs": [],
   "execution_count": null
  },
  {
   "metadata": {},
   "cell_type": "code",
   "source": "from sklearn.model_selection import train_test_split,GridSearchCV",
   "id": "db95c1068506fd75",
   "outputs": [],
   "execution_count": null
  },
  {
   "metadata": {},
   "cell_type": "code",
   "source": [
    "from sklearn.ensemble import RandomForestClassifier\n",
    "from sklearn.tree import DecisionTreeClassifier\n",
    "from sklearn.neighbors import KNeighborsClassifier\n",
    "from sklearn.naive_bayes import GaussianNB\n",
    "from sklearn.neural_network import MLPClassifier\n",
    "from sklearn.linear_model import LogisticRegression\n",
    "from xgboost import XGBClassifier\n",
    "from lightgbm import LGBMClassifier"
   ],
   "id": "78575bcc8357433d",
   "outputs": [],
   "execution_count": null
  },
  {
   "metadata": {},
   "cell_type": "code",
   "source": [
    "from sklearn.metrics import accuracy_score,confusion_matrix,classification_report\n",
    "from sklearn.preprocessing import LabelEncoder"
   ],
   "id": "ae4ea27b4afdbda1",
   "outputs": [],
   "execution_count": null
  },
  {
   "metadata": {},
   "cell_type": "code",
   "source": [
    "df = pd.read_csv('breast_cancer.csv')\n",
    "df.head()"
   ],
   "id": "3b7549cc695f4d00",
   "outputs": [],
   "execution_count": null
  },
  {
   "metadata": {},
   "cell_type": "code",
   "source": "df.columns = map(str.lower,df.columns)",
   "id": "fe2661110ca41dd9",
   "outputs": [],
   "execution_count": null
  },
  {
   "metadata": {},
   "cell_type": "markdown",
   "source": "# EDA",
   "id": "91fa990518c711ca"
  },
  {
   "metadata": {},
   "cell_type": "code",
   "source": "df.info()",
   "id": "7f6a2014c6a86930",
   "outputs": [],
   "execution_count": null
  },
  {
   "metadata": {},
   "cell_type": "code",
   "source": "df.describe()",
   "id": "89ee388fddcee949",
   "outputs": [],
   "execution_count": null
  },
  {
   "metadata": {},
   "cell_type": "code",
   "source": "df.isnull().sum()",
   "id": "e313d269889ba7be",
   "outputs": [],
   "execution_count": null
  },
  {
   "metadata": {},
   "cell_type": "code",
   "source": "df.corr()['class'].sort_values(ascending=False)[1:]",
   "id": "8d0598398033cf57",
   "outputs": [],
   "execution_count": null
  },
  {
   "metadata": {},
   "cell_type": "code",
   "source": "sns.heatmap(df.corr(),annot=True,cmap=sns.cubehelix_palette(as_cmap=True));",
   "id": "dcb8c906a482e201",
   "outputs": [],
   "execution_count": null
  },
  {
   "metadata": {},
   "cell_type": "code",
   "source": "sns.countplot(df['class']);",
   "id": "3900e54242742f1f",
   "outputs": [],
   "execution_count": null
  },
  {
   "metadata": {},
   "cell_type": "code",
   "source": "sns.pairplot(df,hue='class');",
   "id": "b9871cf1aa981de3",
   "outputs": [],
   "execution_count": null
  },
  {
   "metadata": {},
   "cell_type": "code",
   "source": "sns.boxplot(data=df);",
   "id": "b4de2e790c2a10bc",
   "outputs": [],
   "execution_count": null
  },
  {
   "metadata": {},
   "cell_type": "code",
   "source": [
    "plt.pie(df['class'].value_counts(),labels = [2,4],textprops={'size':12},autopct='%.2f%%',startangle=60)\n",
    "plt.title('Class',size = 14)\n",
    "plt.show()"
   ],
   "id": "f135c7b5edbf89d4",
   "outputs": [],
   "execution_count": null
  },
  {
   "metadata": {},
   "cell_type": "markdown",
   "source": "## Create Independent and Dependent Variables",
   "id": "ab0eac03feb58f7f"
  },
  {
   "metadata": {},
   "cell_type": "code",
   "source": [
    "X = df.drop('class',axis = 1).values\n",
    "y = df['class'].values"
   ],
   "id": "e10d261cca9eab9c",
   "outputs": [],
   "execution_count": null
  },
  {
   "metadata": {},
   "cell_type": "markdown",
   "source": "## Split the Data Into the Train and Test Sets",
   "id": "cf26180c3fb31b4a"
  },
  {
   "metadata": {},
   "cell_type": "code",
   "source": "X_train,X_test,y_train,y_test = train_test_split(X,y,test_size=0.3,random_state=0)",
   "id": "1deb0160320609b6",
   "outputs": [],
   "execution_count": null
  },
  {
   "metadata": {},
   "cell_type": "markdown",
   "source": "## Machine Learning Models",
   "id": "20293cb939f65246"
  },
  {
   "metadata": {},
   "cell_type": "code",
   "source": [
    "def display_result(y_pred,modelName):\n",
    "    print(modelName.center(75,'_'),end='\\n\\n')\n",
    "\n",
    "    print('Accuracy Score:',round(accuracy_score(y_test,y_pred),3),end='\\n\\n')\n",
    "    print('Classification Report'.center(75,'_'),end='\\n\\n')\n",
    "    print(classification_report(y_test,y_pred),end='\\n\\n')\n",
    "\n",
    "    print('Confusion Matrix'.center(75,'_'),end='\\n\\n')\n",
    "    print(confusion_matrix(y_test,y_pred))"
   ],
   "id": "ca74135676a78b0f",
   "outputs": [],
   "execution_count": null
  },
  {
   "metadata": {},
   "cell_type": "code",
   "source": [
    "def grid_search(estimator,param_grid):\n",
    "    gridSearch = GridSearchCV(\n",
    "        estimator=estimator,\n",
    "        param_grid=param_grid,\n",
    "        cv = 10,\n",
    "        n_jobs=-1)\n",
    "    \n",
    "    \n",
    "    gridSearch.fit(X_train,y_train)\n",
    "    print('Best Parameters:',gridSearch.best_params_)"
   ],
   "id": "daf1f03204e7f926",
   "outputs": [],
   "execution_count": null
  },
  {
   "metadata": {},
   "cell_type": "markdown",
   "source": "### Random Forest Classifier",
   "id": "7b4006af08749bd8"
  },
  {
   "metadata": {},
   "cell_type": "code",
   "source": [
    "rf_model = RandomForestClassifier(random_state=0).fit(X_train,y_train)\n",
    "rf_params = {\n",
    "    'n_estimators':[100,200,500,1000],\n",
    "    'criterion':['entropy','gini'],\n",
    "    'max_depth':[None,3,4,5]\n",
    "}\n",
    "grid_search(rf_model,rf_params)"
   ],
   "id": "43ff4879bc73e9d",
   "outputs": [],
   "execution_count": null
  },
  {
   "metadata": {},
   "cell_type": "code",
   "source": [
    "rf_model_tuned = RandomForestClassifier(n_estimators=500,criterion='gini',max_depth=3,random_state=0).fit(X_train,y_train)\n",
    "rf_pred = rf_model_tuned.predict(X_test)\n",
    "display_result(rf_pred,'Random Forest')"
   ],
   "id": "88852fb9d93a9c82",
   "outputs": [],
   "execution_count": null
  },
  {
   "metadata": {},
   "cell_type": "markdown",
   "source": "### Decision Tree Classifier",
   "id": "fd6f14fbd46b13a1"
  },
  {
   "metadata": {},
   "cell_type": "code",
   "source": [
    "dt_model = DecisionTreeClassifier(random_state=0).fit(X_train,y_train)\n",
    "dt_params = {\n",
    "    'criterion':['entropy','gini'],\n",
    "    'max_depth':[None,3,4,5],\n",
    "    'min_samples_split':[2,5,10]\n",
    "}\n",
    "grid_search(dt_model,dt_params)"
   ],
   "id": "b95979fb2846b6db",
   "outputs": [],
   "execution_count": null
  },
  {
   "metadata": {},
   "cell_type": "code",
   "source": [
    "dt_model_tuned = DecisionTreeClassifier(criterion='entropy',max_depth=3,min_samples_split=2,random_state=0).fit(X_train,y_train)\n",
    "dt_pred = dt_model_tuned.predict(X_test)\n",
    "display_result(dt_pred,'Decision Tree')"
   ],
   "id": "ad534aa0883221af",
   "outputs": [],
   "execution_count": null
  },
  {
   "metadata": {},
   "cell_type": "markdown",
   "source": "### K-Nearest Neighbors Classifier",
   "id": "8ad882ef2f80c296"
  },
  {
   "metadata": {},
   "cell_type": "code",
   "source": [
    "knn_model = KNeighborsClassifier().fit(X_train,y_train)\n",
    "knn_params = {\n",
    "    'n_neighbors':np.arange(1,50),\n",
    "    'weights':['uniform','distance']\n",
    "}\n",
    "grid_search(knn_model,knn_params)"
   ],
   "id": "c31d6555e691b5d7",
   "outputs": [],
   "execution_count": null
  },
  {
   "metadata": {},
   "cell_type": "code",
   "source": [
    "knn_model_tuned = KNeighborsClassifier(n_neighbors=3,weights='uniform').fit(X_train,y_train)\n",
    "knn_pred = knn_model_tuned.predict(X_test)\n",
    "display_result(knn_pred,'K-Nearest Neighbors')"
   ],
   "id": "7293b37e2ebc5cc7",
   "outputs": [],
   "execution_count": null
  },
  {
   "metadata": {},
   "cell_type": "markdown",
   "source": "### Naive Bayes Classifier",
   "id": "1e257fb97d9c5a8d"
  },
  {
   "metadata": {},
   "cell_type": "code",
   "source": [
    "\n",
    "nb_model = GaussianNB().fit(X_train,y_train)\n",
    "nb_pred = nb_model.predict(X_test)\n",
    "display_result(nb_pred,'Naive Bayes')"
   ],
   "id": "46c68261fc898ab5",
   "outputs": [],
   "execution_count": null
  },
  {
   "metadata": {},
   "cell_type": "markdown",
   "source": [
    "\n",
    "### Neural Network Classifier\n"
   ],
   "id": "63287643b5a10391"
  },
  {
   "metadata": {},
   "cell_type": "code",
   "source": [
    "mlp_model = MLPClassifier(random_state=0).fit(X_train,y_train)\n",
    "mlp_params = {\n",
    "    'hidden_layer_sizes':[(100,0),(10,10),(10,5)],\n",
    "    'solver':['adam','lbfgs','sgd'],\n",
    "    'activation':['relu','logistic'],\n",
    "    'alpha':[0.0001,0.001,0.01]\n",
    "}\n",
    "grid_search(mlp_model,mlp_params)"
   ],
   "id": "f6f0ad87cd00f284",
   "outputs": [],
   "execution_count": null
  },
  {
   "metadata": {},
   "cell_type": "code",
   "source": [
    "mlp_model_tuned = MLPClassifier(random_state=0,activation='relu',alpha=0.001,hidden_layer_sizes =(10,5),solver='adam')\n",
    "mlp_model_tuned.fit(X_train,y_train)\n",
    "\n",
    "mlp_pred = mlp_model_tuned.predict(X_test)\n",
    "display_result(mlp_pred,'Multilayer Perceptron')\n"
   ],
   "id": "2589bbea7f9602f0",
   "outputs": [],
   "execution_count": null
  },
  {
   "metadata": {},
   "cell_type": "markdown",
   "source": [
    "\n",
    "### Logistic Regression Classifier\n"
   ],
   "id": "79b9ad95f30cac5b"
  },
  {
   "metadata": {},
   "cell_type": "code",
   "source": [
    "lr_model = LogisticRegression(random_state=0).fit(X_train,y_train)\n",
    "lr_params = {\n",
    "    'C':np.arange(1,6),\n",
    "    'tol':[0.0001,0.001,0.01],\n",
    "    'solver':['adam','lbfgs','sgd']\n",
    "}\n",
    "grid_search(lr_model,lr_params)\n"
   ],
   "id": "e58a6fcb3464e832",
   "outputs": [],
   "execution_count": null
  },
  {
   "metadata": {},
   "cell_type": "code",
   "source": [
    "lr_model_tuned = LogisticRegression(C=1, solver='lbfgs', tol = 0.0001).fit(X_train,y_train)\n",
    "lr_pred = lr_model_tuned.predict(X_test)\n",
    "display_result(lr_pred,'Logistic Regression')"
   ],
   "id": "c96149b5f072ab55",
   "outputs": [],
   "execution_count": null
  },
  {
   "metadata": {},
   "cell_type": "code",
   "source": "",
   "id": "8a428e9b15c8870f",
   "outputs": [],
   "execution_count": null
  },
  {
   "metadata": {},
   "cell_type": "markdown",
   "source": [
    "\n",
    "### XGBoost Classifier"
   ],
   "id": "ca8a4360f925ffa"
  },
  {
   "metadata": {},
   "cell_type": "code",
   "source": [
    "le = LabelEncoder()\n",
    "\n",
    "y_train_encoded = le.fit_transform(y_train)\n",
    "y_test_encoded = le.transform(y_test)"
   ],
   "id": "a59ef3e6e6cb83b6",
   "outputs": [],
   "execution_count": null
  },
  {
   "metadata": {},
   "cell_type": "code",
   "source": [
    "xgb_model = XGBClassifier().fit(X_train,y_train_encoded)\n",
    "xgb_params = {\n",
    "    'n_estimators':[100,200,500,1000],\n",
    "    'max_depth':[None,3,4,5],\n",
    "    'learning_rate': [0.1, 0.01, 0.02],\n",
    "    'subsample': [0.6, 0.8, 1.0]\n",
    "}\n",
    "\n",
    "gridSearch = GridSearchCV(estimator=xgb_model,param_grid=xgb_params,cv = 10,n_jobs=-1)\n",
    "gridSearch.fit(X_train,y_train_encoded)\n",
    "print('Best Parameters:',gridSearch.best_params_)"
   ],
   "id": "3c84d79b9efe07fa",
   "outputs": [],
   "execution_count": null
  },
  {
   "metadata": {},
   "cell_type": "code",
   "source": [
    "xgb_model_tuned = XGBClassifier(learning_rate = 0.1, max_depth = None, n_estimators = 200, subsample = 0.8)\n",
    "xgb_model_tuned.fit(X_train,y_train_encoded)\n",
    "xgb_pred = xgb_model_tuned.predict(X_test)\n",
    "xgb_pred[xgb_pred== 1] = 4\n",
    "xgb_pred[xgb_pred== 0] = 2\n",
    "display_result(xgb_pred,'XGBoost')"
   ],
   "id": "913d4f283acd52d0",
   "outputs": [],
   "execution_count": null
  },
  {
   "metadata": {},
   "cell_type": "markdown",
   "source": [
    "\n",
    "### LightGBM Classifier\n"
   ],
   "id": "1d32c2e865276729"
  },
  {
   "metadata": {},
   "cell_type": "markdown",
   "source": [
    "lgbm_model = LGBMClassifier(random_state=0).fit(X_train,y_train)\n",
    "lgbm_params = {\n",
    "    'n_estimators': [100, 500, 1000],\n",
    "    'subsample': [0.6, 0.8, 1.0],\n",
    "    'max_depth': [-1, 3, 4, 5],\n",
    "    'learning_rate': [0.1,0.01,0.02,0.05],\n",
    "    \"min_child_samples\": [5,10,20]\n",
    "}\n",
    "grid_search(lgbm_model,lgbm_params)"
   ],
   "id": "38a3be31081029f3"
  },
  {
   "metadata": {},
   "cell_type": "markdown",
   "source": [
    "lgbm_model_tuned = LGBMClassifier(random_state=0,learning_rate=0.05,max_depth=4,min_child_samples=20,n_estimators=500,subsample=0.6)\n",
    "lgbm_model_tuned.fit(X_train,y_train)\n",
    "lgbm_pred = lgbm_model_tuned.predict(X_test)\n",
    "display_result(lgbm_pred,'LightGBM')"
   ],
   "id": "6999f20900137985"
  },
  {
   "metadata": {},
   "cell_type": "markdown",
   "source": "# Predict single value\n",
   "id": "6e304f0568883b9"
  },
  {
   "metadata": {},
   "cell_type": "markdown",
   "source": [
    "models = [\n",
    "    rf_model_tuned,\n",
    "    dt_model_tuned,\n",
    "    knn_model_tuned,\n",
    "    nb_model,\n",
    "    mlp_model_tuned,\n",
    "    lr_model_tuned,\n",
    "    xgb_model_tuned,\n",
    "    lgbm_model_tuned\n",
    "]\n",
    "\n",
    "class_names = {4:'Maligant',2:'Benign'}"
   ],
   "id": "358f7d22cde191dc"
  },
  {
   "metadata": {},
   "cell_type": "markdown",
   "source": [
    "def select_model():\n",
    "    print('\\n1. Random Forest\\n2. Decision Tree\\n3. KNN\\n4. Naive Bayes\\n5. MLP\\n6. Logistic Regression\\n7. XGBoost\\n8. LightGBM')\n",
    "    while True:\n",
    "        try:\n",
    "            model_id = int(input('Select machine learning model id: '))\n",
    "            if model_id <1 or model_id >8:\n",
    "                continue\n",
    "            else:\n",
    "                break\n",
    "        except Exception as ex:\n",
    "            print(ex)\n",
    "            choice = input(\"\\nPress any key to continue or press 'e' to exit: \").lower()\n",
    "            if choice == 'e':\n",
    "                model_id = 0\n",
    "                break\n",
    "\n",
    "    return model_id"
   ],
   "id": "1aeacca9dd2d3084"
  },
  {
   "metadata": {},
   "cell_type": "markdown",
   "source": [
    "i = 1\n",
    "while True:\n",
    "    try:\n",
    "        print('\\n')\n",
    "        print(f'Prediction {i}'.center(50,'_'),end='\\n\\n')\n",
    "        clump_thickness = int(input('Clump Thickness: '))\n",
    "        uniformity_of_cell_size = int(input('Uniformity of cell size: '))\n",
    "        uniformity_of_cell_shape = int(input('Uniformity of cell shape: '))\n",
    "        marginal_adhesion = int(input('Marginal adhesion: '))\n",
    "        single_epithelial_cell_size = int(input('Single epithelial cell size: '))\n",
    "        bare_nuclei = int(input('Bare nuclei: '))\n",
    "        bland_chromatin = int(input('Bland chromatin: '))\n",
    "        normal_nucleoli = int(input('Normal nucleoli: '))\n",
    "        mitoses = int(input('Mitoses: '))\n",
    "\n",
    "        values = [[\n",
    "            clump_thickness,uniformity_of_cell_size,uniformity_of_cell_shape,marginal_adhesion,\n",
    "            single_epithelial_cell_size,bare_nuclei,bland_chromatin,normal_nucleoli,mitoses\n",
    "        ]]\n",
    "\n",
    "        model_id = select_model()-1\n",
    "        if model_id == -1:\n",
    "            break\n",
    "\n",
    "        prediction = models[model_id].predict(values)[0]\n",
    "        if model_id == 6: #xgboost\n",
    "            prediction = (prediction+1)*2\n",
    "\n",
    "        print('\\nPredicted class is:',class_names[prediction])\n",
    "        i+=1\n",
    "\n",
    "    except Exception as ex:\n",
    "        print(ex)\n",
    "\n",
    "    finally:\n",
    "        choice = input(\"\\nPress any key to continue or press 'e' to exit: \").lower()\n",
    "        if choice == 'e':\n",
    "            break"
   ],
   "id": "45b49eff0b61e663"
  }
 ],
 "metadata": {
  "kernelspec": {
   "display_name": "Python 3",
   "language": "python",
   "name": "python3"
  },
  "language_info": {
   "codemirror_mode": {
    "name": "ipython",
    "version": 2
   },
   "file_extension": ".py",
   "mimetype": "text/x-python",
   "name": "python",
   "nbconvert_exporter": "python",
   "pygments_lexer": "ipython2",
   "version": "2.7.6"
  }
 },
 "nbformat": 4,
 "nbformat_minor": 5
}
